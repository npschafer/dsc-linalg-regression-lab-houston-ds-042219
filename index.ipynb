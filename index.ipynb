{
 "cells": [
  {
   "cell_type": "markdown",
   "metadata": {},
   "source": [
    "# Regression with Linear Algebra - Lab\n",
    "\n",
    "## Introduction\n",
    "\n",
    "In this lab, you'll apply regression analysis using simple matrix manipulations to fit a model to given data, and then predict new values for previously unseen data. You'll follow the approach highlighted in previous lesson where you used Numpy to build the appropriate matrices and vectors and solve for the $\\beta$ (unknown variables) vector. The beta vector will be used with test data to make new predictions. You'll also evaluate the model fit.\n",
    "\n",
    "In order to make this experiment interesting, you'll use NumPy at every single stage of this experiment i.e. loading data, creating matrices, performing test train split, model fitting and evaluations.  \n",
    "\n",
    "## Objectives\n",
    "\n",
    "You will be able to:\n",
    "\n",
    "* Use linear algebra to apply simple regression modeling in Python and NumPy only\n",
    "* Apply train/test split using permutations in NumPy\n",
    "* Use matrix algebra with inverses and dot products to calculate the beta\n",
    "* Make predictions from the fitted model using previously unseen input features \n",
    "* Evaluate the fitted model by calculating the error between real and predicted values\n",
    "\n",
    "\n",
    "First let's import necessary libraries "
   ]
  },
  {
   "cell_type": "code",
   "execution_count": 1,
   "metadata": {},
   "outputs": [],
   "source": [
    "import csv # for reading csv file\n",
    "import numpy as np"
   ]
  },
  {
   "cell_type": "markdown",
   "metadata": {},
   "source": [
    "## Dataset \n",
    "\n",
    "The dataset you'll use for this experiment is \"**Sales Prices in the City of Windsor, Canada**\", something very similar to the Boston Housing dataset. This dataset contains a number of input (independent) variables, including area, number of bedrooms/bathrooms, facilities(AC/garage) etc. and an output (dependent) variable, **price**.  You'll formulate a linear algebra problem to find linear mappings from input to out features using the equation provided in the previous lesson. \n",
    "\n",
    "This will allow you to find a relationship between house features and house price for the given data, allowing you to find unknown prices for houses, given the input features.  \n",
    "\n",
    "A description of dataset and included features is available [here](https://rdrr.io/cran/Ecdat/man/Housing.html).\n",
    "\n",
    "In your repository, the dataset is available as `windsor_housing.csv` containing following variables:\n",
    "\n",
    "there are 11 input features (first 11 columns):\n",
    "\n",
    "\tlotsize\tbedrooms  bathrms  stories\tdriveway  recroom\tfullbase  gashw\t airco  garagepl   prefarea\n",
    "\n",
    "and 1 output feature i.e. **price** (12th column). \n",
    "\n",
    "The focus of this lab is not really answering a preset analytical question, but to learn how you can perform a regression experiment, similar to one you performed in statsmodels, using mathematical manipulations. So you won't be using any Pandas or statsmodels goodness here. The key objectives here are to \n",
    "- understand regression with matrix algebra, and \n",
    "- mastery in NumPy scientific computation\n",
    "\n",
    "## Stage 1: Prepare Data for Modeling \n",
    "\n",
    "Let's give you a head start by importing the dataset.You'll perform following steps to get the data ready for analysis:\n",
    "\n",
    "* Initialize an empty list `data` for loading data\n",
    "* Read the csv file containing complete (raw) `windsor_housing.csv`. [Use `csv.reader()` for loading data.](https://docs.python.org/3/library/csv.html). Store this in `data` one row at a time.\n",
    "\n",
    "* Drop the first row of csv file as it contains the names of variables (header) which won't be used during analysis (keeping this will cause errors as it contains text values).\n",
    "\n",
    "* Append a column of all 1s to the data (bias) as the first column\n",
    "\n",
    "* Convert `data` to a Numpy array and inspect first few rows \n",
    "\n",
    "NOTE: `read.csv()` reads the csv as a text file, so you should convert the contents to float."
   ]
  },
  {
   "cell_type": "code",
   "execution_count": 7,
   "metadata": {},
   "outputs": [
    {
     "name": "stdout",
     "output_type": "stream",
     "text": [
      "[[5.85e+03 3.00e+00 1.00e+00 2.00e+00 1.00e+00 0.00e+00 1.00e+00 0.00e+00\n",
      "  0.00e+00 1.00e+00 0.00e+00 4.20e+04]\n",
      " [4.00e+03 2.00e+00 1.00e+00 1.00e+00 1.00e+00 0.00e+00 0.00e+00 0.00e+00\n",
      "  0.00e+00 0.00e+00 0.00e+00 3.85e+04]\n",
      " [3.06e+03 3.00e+00 1.00e+00 1.00e+00 1.00e+00 0.00e+00 0.00e+00 0.00e+00\n",
      "  0.00e+00 0.00e+00 0.00e+00 4.95e+04]\n",
      " [6.65e+03 3.00e+00 1.00e+00 2.00e+00 1.00e+00 1.00e+00 0.00e+00 0.00e+00\n",
      "  0.00e+00 0.00e+00 0.00e+00 6.05e+04]\n",
      " [6.36e+03 2.00e+00 1.00e+00 1.00e+00 1.00e+00 0.00e+00 0.00e+00 0.00e+00\n",
      "  0.00e+00 0.00e+00 0.00e+00 6.10e+04]]\n",
      "546\n",
      "546\n",
      "[[1.00e+00 5.85e+03 3.00e+00 1.00e+00 2.00e+00 1.00e+00 0.00e+00 1.00e+00\n",
      "  0.00e+00 0.00e+00 1.00e+00 0.00e+00 4.20e+04]\n",
      " [1.00e+00 4.00e+03 2.00e+00 1.00e+00 1.00e+00 1.00e+00 0.00e+00 0.00e+00\n",
      "  0.00e+00 0.00e+00 0.00e+00 0.00e+00 3.85e+04]\n",
      " [1.00e+00 3.06e+03 3.00e+00 1.00e+00 1.00e+00 1.00e+00 0.00e+00 0.00e+00\n",
      "  0.00e+00 0.00e+00 0.00e+00 0.00e+00 4.95e+04]\n",
      " [1.00e+00 6.65e+03 3.00e+00 1.00e+00 2.00e+00 1.00e+00 1.00e+00 0.00e+00\n",
      "  0.00e+00 0.00e+00 0.00e+00 0.00e+00 6.05e+04]\n",
      " [1.00e+00 6.36e+03 2.00e+00 1.00e+00 1.00e+00 1.00e+00 0.00e+00 0.00e+00\n",
      "  0.00e+00 0.00e+00 0.00e+00 0.00e+00 6.10e+04]]\n"
     ]
    }
   ],
   "source": [
    "# Your Code here\n",
    "\n",
    "data = []\n",
    "import csv\n",
    "data_csv=csv.reader(open(\"windsor_housing.csv\", 'r'))\n",
    "for row in list(data_csv)[1:]:\n",
    "    data.append(row)\n",
    "data = np.array(data, dtype=float)\n",
    "print(data[:5])\n",
    "print(data.shape[0])\n",
    "ones = np.array([np.ones(data.shape[0])]).T\n",
    "print(ones.shape[0])\n",
    "data = np.append(ones, data, axis=1)\n",
    "print(data[:5])\n",
    "\n",
    "\n",
    "# First 5 rows of raw data \n",
    "\n",
    "# array([[1.00e+00, 5.85e+03, 3.00e+00, 1.00e+00, 2.00e+00, 1.00e+00,\n",
    "#         0.00e+00, 1.00e+00, 0.00e+00, 0.00e+00, 1.00e+00, 0.00e+00,\n",
    "#         4.20e+04],\n",
    "#        [1.00e+00, 4.00e+03, 2.00e+00, 1.00e+00, 1.00e+00, 1.00e+00,\n",
    "#         0.00e+00, 0.00e+00, 0.00e+00, 0.00e+00, 0.00e+00, 0.00e+00,\n",
    "#         3.85e+04],\n",
    "#        [1.00e+00, 3.06e+03, 3.00e+00, 1.00e+00, 1.00e+00, 1.00e+00,\n",
    "#         0.00e+00, 0.00e+00, 0.00e+00, 0.00e+00, 0.00e+00, 0.00e+00,\n",
    "#         4.95e+04],\n",
    "#        [1.00e+00, 6.65e+03, 3.00e+00, 1.00e+00, 2.00e+00, 1.00e+00,\n",
    "#         1.00e+00, 0.00e+00, 0.00e+00, 0.00e+00, 0.00e+00, 0.00e+00,\n",
    "#         6.05e+04],\n",
    "#        [1.00e+00, 6.36e+03, 2.00e+00, 1.00e+00, 1.00e+00, 1.00e+00,\n",
    "#         0.00e+00, 0.00e+00, 0.00e+00, 0.00e+00, 0.00e+00, 0.00e+00,\n",
    "#         6.10e+04]])"
   ]
  },
  {
   "cell_type": "markdown",
   "metadata": {},
   "source": [
    "## Step 2: Perform a 80/20 test train Split\n",
    "\n",
    "Explore NumPy's official documentation to manually split a dataset using `numpy.random.shuffle()`,  `numpy.random.permutations()` or using simple resampling method. \n",
    "* Perform a **random** 80/20 split on data using a method of your choice, in NumPy using one of the methods above\n",
    "* Create x_test, y_test, x_train and y_train arrays from the split data\n",
    "* Inspect the contents to see if the split performed as expected"
   ]
  },
  {
   "cell_type": "code",
   "execution_count": 12,
   "metadata": {},
   "outputs": [],
   "source": [
    "# Your code here \n",
    "np.random.shuffle(data)\n",
    "num_train_rows = int(4.*len(data)/5.)+1\n",
    "train = data[:num_train_rows,:]\n",
    "test = data[num_train_rows:,:]\n",
    "x_train, y_train = train[:,:-1], train[:,-1]\n",
    "x_test, y_test = test[:,:-1], test[:,-1]\n",
    "\n",
    "# Split results\n",
    "\n",
    "# Raw data Shape:  (546, 13)\n",
    "# Train/Test Split: (437, 13) (109, 13)\n",
    "# x_train, y_train, x_test, y_test: (437, 12) (437,) (109, 12) (109,)"
   ]
  },
  {
   "cell_type": "code",
   "execution_count": 13,
   "metadata": {},
   "outputs": [
    {
     "data": {
      "text/plain": [
       "(437, 13)"
      ]
     },
     "execution_count": 13,
     "metadata": {},
     "output_type": "execute_result"
    }
   ],
   "source": [
    "train.shape"
   ]
  },
  {
   "cell_type": "markdown",
   "metadata": {},
   "source": [
    "## Step 3: Calculate the `beta` \n",
    "\n",
    "With $X$ and $y$ in place, you can now compute your beta values with $x_\\text{train}$ and $y_\\text{train}$ as:\n",
    "#### $\\beta = (x_\\text{train}^T. x_\\text{train})^{-1} . x_\\text{train}^T . y_\\text{train}$\n",
    "\n",
    "* Using numpy operations (transpose, inverse) that we saw earlier, compute the above equation in steps.\n",
    "* Print your beta values"
   ]
  },
  {
   "cell_type": "code",
   "execution_count": 14,
   "metadata": {},
   "outputs": [
    {
     "data": {
      "text/plain": [
       "numpy.ndarray"
      ]
     },
     "execution_count": 14,
     "metadata": {},
     "output_type": "execute_result"
    }
   ],
   "source": [
    "type(x_train)"
   ]
  },
  {
   "cell_type": "code",
   "execution_count": 15,
   "metadata": {},
   "outputs": [
    {
     "data": {
      "text/plain": [
       "array([-4.06664319e+03,  3.65415408e+00,  1.74186420e+03,  1.38650706e+04,\n",
       "        6.82731698e+03,  6.45184578e+03,  5.48397255e+03,  5.48449979e+03,\n",
       "        9.87464769e+03,  1.31858967e+04,  4.21147028e+03,  8.19788850e+03])"
      ]
     },
     "execution_count": 15,
     "metadata": {},
     "output_type": "execute_result"
    }
   ],
   "source": [
    "# Your code here \n",
    "beta = np.linalg.inv(x_train.T.dot(x_train)).dot(x_train.T).dot(y_train)\n",
    "beta\n",
    "\n",
    "\n",
    "# Calculated beta values\n",
    "\n",
    "# [-3.07118956e+03  2.13543921e+00  4.04283395e+03  1.33559881e+04\n",
    "#   5.75279185e+03  7.82810082e+03  3.73584043e+03  6.51098935e+03\n",
    "#   1.28802060e+04  1.09853850e+04  6.14947126e+03  1.05813305e+04]"
   ]
  },
  {
   "cell_type": "markdown",
   "metadata": {},
   "source": [
    "## Step 4: Make Predictions\n",
    "Great, you now have a set of coefficients that describe the linear mappings between $X$ and $y$. You can now use the calculated beta values with the test datasets that we left out to calculate $y$ predictions. Next, use all features in turn and multiply it with this beta. The result will give a prediction for each row which you can append to a new array of predictions.\n",
    "\n",
    "$\\hat{y} = x\\beta = \\beta_0 + \\beta_1 x_1 +  \\beta_2 x_2 + \\ldots + \\beta_m x_m $ \n",
    "\n",
    "* Create new empty list (`y_pred`) for saving predictions\n",
    "* For each row of x_test, take the dot product of the row with beta to calculate the prediction for that row\n",
    "* Append the predictions to `y_pred`\n",
    "* Print the new set of predictions"
   ]
  },
  {
   "cell_type": "code",
   "execution_count": 19,
   "metadata": {},
   "outputs": [
    {
     "data": {
      "text/plain": [
       "array([ 50231.37589765,  93905.94544315,  94024.3522987 ,  32484.92534612,\n",
       "        39716.27324526,  66640.45196887,  39716.27324526,  41324.10103881,\n",
       "       100455.05761868,  31717.55299011,  86252.77222565,  83280.42205559,\n",
       "        77485.8423859 , 100267.39926369,  97030.19468259,  85198.42070199,\n",
       "        80981.46636019,  40936.76070673,  53221.83109512,  47956.58055282,\n",
       "        64914.59690629,  68146.32335394,  44608.04565768,  44948.83269821,\n",
       "        84790.96621528,  51385.69603804,  79099.87417638, 105629.39129857,\n",
       "        58169.81029742,  82412.7274606 ,  54689.41715025,  81369.65315743,\n",
       "        98451.93181856,  77232.13103108,  52332.29790546,  63356.31931026,\n",
       "        80013.41269545,  58902.20506933,  58922.31145408,  46476.45828633,\n",
       "        64613.84921795,  63792.74382619,  46045.07892109,  80615.93764721,\n",
       "        73414.48383839,  72683.65302314,  86084.96244163,  67877.73038055,\n",
       "       100958.67405569,  76440.82700109,  57320.40808516,  42430.75471239,\n",
       "        40718.9017774 ,  74961.43613003,  90327.97857945,  55372.4393544 ,\n",
       "       107496.27380409,  83864.71092095,  99502.88969474,  39969.99005738,\n",
       "        39895.32679499,  74145.31465364,  51577.4617608 ,  81088.56824738,\n",
       "        49198.99293875,  69463.89997738,  57028.07575906,  90936.72300279,\n",
       "        41360.64257957,  45669.60772697, 106119.95189418,  42006.26055359,\n",
       "        46622.73987325,  51074.74127734,  58462.38894592,  32874.60027316,\n",
       "        75987.59015518, 115793.49021391,  44351.09777704,  68326.42246071,\n",
       "        50742.9307479 ,  97696.63500103,  84937.00371537,  72683.60530183,\n",
       "        60210.47813219,  42773.6329096 ,  47834.82617083,  80863.00700889,\n",
       "        86580.6671985 ,  51709.01130755,  54449.14639395,  58039.1091407 ,\n",
       "        65886.27286578,  41644.37483324,  56287.97740494,  33967.90983346,\n",
       "        55021.93586949,  56778.49030879,  49710.57450942,  54509.97811893,\n",
       "        76178.77860502,  46584.0089354 ,  45999.69594741,  57536.99451146,\n",
       "        77461.80765134,  67167.70733398,  54001.07902083,  94164.96195634,\n",
       "        48047.74453912])"
      ]
     },
     "execution_count": 19,
     "metadata": {},
     "output_type": "execute_result"
    }
   ],
   "source": [
    "y_pred = []\n",
    "for row in x_test:\n",
    "    pred = row.dot(beta)\n",
    "    y_pred.append(pred)\n",
    "y_pred = np.array(y_pred)\n",
    "y_pred"
   ]
  },
  {
   "cell_type": "markdown",
   "metadata": {},
   "source": [
    "## Step 5: Evaluate Model \n",
    "\n",
    "### Visualize Actual vs. Predicted values\n",
    "This is exciting, now your model can use the beta value to predict the price of houses given the input features. Let's plot these predictions against the actual values in `y_test` to see how much our model deviates. "
   ]
  },
  {
   "cell_type": "code",
   "execution_count": null,
   "metadata": {},
   "outputs": [],
   "source": []
  },
  {
   "cell_type": "code",
   "execution_count": 1,
   "metadata": {},
   "outputs": [],
   "source": [
    "# Plot predicted and actual values as line plots\n"
   ]
  },
  {
   "cell_type": "markdown",
   "metadata": {},
   "source": [
    "<img src =\"images/diff.png\" width=\"750\">\n",
    "\n",
    "This doesn't look so bad, does it? Your model, although isn't perfect at this stage, is making a good attempt to predict house prices although a few prediction seem a bit out. There could be a number of reasons for this. Let's try to dig a bit deeper to check model's predictive abilities by comparing these prediction with actual values of `y_test` individually. That will help you calculate the RMSE value (Root Mean Squared Error) for your model. \n",
    "### Root Mean Squared Error\n",
    "Here is the formula for this again. \n",
    "\n",
    "$$ \\large RMSE = \\sqrt{\\sum^N_{i=1}\\dfrac{ (\\text{Predicted}_i-\\text{Actual}_i)^2}{N}}$$\n",
    "\n",
    "* Initialize an empty array `err`\n",
    "* for each row in `y_test` and `y_pred`, take the squared difference and append error for each row in the `err` array\n",
    "* Calculate $RMSE$ from `err` using the formula shown above. "
   ]
  },
  {
   "cell_type": "code",
   "execution_count": 7,
   "metadata": {},
   "outputs": [],
   "source": [
    "# Calculate RMSE\n",
    "\n",
    "# Due to random split, your answers may vary \n",
    "\n",
    "# RMSE = 16401.913562758735"
   ]
  },
  {
   "cell_type": "markdown",
   "metadata": {},
   "source": [
    "### Normalized Root Mean Squared Error\n",
    "The above error is clearly in terms of the dependent variable i.e. the final house price. You can also use a normalized mean squared error in case of multiple regression which can be calculated from RMSE using following formula:\n",
    "\n",
    "* Calculate normalized Root Mean Squared Error\n",
    "\n",
    "\n",
    "$$ \\large NRMSE = \\dfrac{RMSE}{max_i y_i - min_i y_i} $$"
   ]
  },
  {
   "cell_type": "code",
   "execution_count": 11,
   "metadata": {},
   "outputs": [
    {
     "data": {
      "text/plain": [
       "0.09940553674399233"
      ]
     },
     "execution_count": 11,
     "metadata": {},
     "output_type": "execute_result"
    }
   ],
   "source": [
    "# Calculate NRMSE\n",
    "\n",
    "# Due to random split, your answers may vary \n",
    "\n",
    "# 0.09940553674399233"
   ]
  },
  {
   "cell_type": "markdown",
   "metadata": {},
   "source": [
    "There it is. A complete multiple regression analysis using nothing but Numpy. Having good programming skills in numpy allows you to dig deeper into analytical algorithms in machine learning and deep learning. Using matrix multiplication techniques you saw here, you can easily build a whole neural network from scratch. \n",
    "\n",
    "## Level up - Optional \n",
    "\n",
    "* Calculate the R_squared and adjusted R_squared for the above experiment\n",
    "* Plot the residuals (similar to statsmodels) and comment on the variance and heteroscedascticity\n",
    "* Run the experiment in statsmodels and compare the performance of both approaches in terms of computational cost\n",
    "\n",
    "## Summary\n",
    "\n",
    "In this lab, you built a predictive model for predicting house prices. Remember this is a very naive implementation of regression modeling. The purpose here was to get an introduction to the applications of linear algebra into machine learning and predictive analysis. There are still have a number of shortcomings in this modeling approach and you can further apply a number of data modeling techniques to improve this model. "
   ]
  }
 ],
 "metadata": {
  "kernelspec": {
   "display_name": "Python 3",
   "language": "python",
   "name": "python3"
  },
  "language_info": {
   "codemirror_mode": {
    "name": "ipython",
    "version": 3
   },
   "file_extension": ".py",
   "mimetype": "text/x-python",
   "name": "python",
   "nbconvert_exporter": "python",
   "pygments_lexer": "ipython3",
   "version": "3.6.6"
  }
 },
 "nbformat": 4,
 "nbformat_minor": 2
}
